{
 "cells": [
  {
   "cell_type": "code",
   "execution_count": 2,
   "id": "5cc93935-6ef0-4543-a2ad-7b85d8809d92",
   "metadata": {},
   "outputs": [],
   "source": [
    "import pandas as pd\n",
    "import re\n",
    "import numpy as np\n",
    "import PyPDF2\n",
    "import requests\n",
    "import io\n",
    "from PyPDF2 import PdfFileReader"
   ]
  },
  {
   "cell_type": "code",
   "execution_count": 3,
   "id": "914dc1d1-36f9-4e46-9821-4e534ca491a8",
   "metadata": {},
   "outputs": [
    {
     "data": {
      "text/plain": [
       "['New Year Address Made by Kim Jong Un ',\n",
       " 'Pyongyang, January 1 (KCNA) -- The dear respected K im Jong Un made a New Year address on January 1, ',\n",
       " '2013. The following is its full text: ',\n",
       " 'Dear comrades, ',\n",
       " \"Officers and men of the heroic People's Army and al l the beloved fellow countrymen, \",\n",
       " 'Dear compatriots, ',\n",
       " 'Having seen out the year 2012 characterized by the events that will go down in the history of the nati on, ',\n",
       " 'we are seeing in the new year 2013 full of high hop e and confidence in final victory. ',\n",
       " 'Reflecting the unanimous reverence of all the servi ce personnel and people for President Kim Il Sung ',\n",
       " 'and General Kim Jong Il, the fathers of the nation and eternal Sun of Juche, I would like first to pay  the ',\n",
       " 'highest tribute and New Year greetings to them. ',\n",
       " 'I extend my warm greetings to the service personnel  and people who are devotedly striving for the ',\n",
       " \"prosperity of the country, firmly united around the  Workers' Party of Korea, and sincerely wish all th e \",\n",
       " 'families across the country harmony and greater hap piness. ',\n",
       " 'My New Year greetings also go to our compatriots in  the south and abroad who are ringing in the new ',\n",
       " \"year with yearning and expectations for the reunifi cation and prosperity of the nation and the world's  \",\n",
       " 'progressive peoples and our foreign friends who lov e justice and peace. ',\n",
       " 'Last year was a historic year in which the great Ge neralissimos were upheld as the eternal leaders of our ',\n",
       " 'revolution and a firm guarantee was provided for br illiantly carrying forward the revolutionary cause of ',\n",
       " 'Juche to completion under the leadership of the Par ty. ',\n",
       " 'The President and the General were great leaders wh om our people acclaimed for the first time in their  ',\n",
       " 'history spanning thousands of years; they are the e ternal images of the great Paektusan nation and ',\n",
       " 'banners of all victories and glory. Last year we ce lebrated the centenary of the birth of the Presiden t as ',\n",
       " 'the greatest national holiday, reviewed the 100-yea r history of Juche Korea with pride and held up the  ',\n",
       " 'General as the eternal leader of our Party and peop le, realizing the cause of immortalizing the leader . By ',\n",
       " 'doing so, we have been able to glorify the new cent ury of the Juche era as the annals of victory and ',\n",
       " 'glory for the accomplishment of the revolutionary c ause of Juche under the unfurled banner of ',\n",
       " 'Kimilsungism-Kimjongilism. ',\n",
       " 'Although they saw in 2012 in tears of blood after t he sudden demise of the General whom they had ',\n",
       " 'believed in as in heaven, our service personnel and  people determinedly rose up following the Party ',\n",
       " 'with firm faith that the great General would always  be with them and fully supported the leadership of  ',\n",
       " 'the Party. With loyalty as pure as white gem, noble  sense of moral obligation and all sincerity, they ',\n",
       " 'refurbished the Kumsusan Palace of the Sun in the m ost sublime way as befits the supreme sanctuary of ',\n",
       " 'Juche and erected the statues of the Generalissimos  on Mansu Hill and in several other places. ']"
      ]
     },
     "execution_count": 3,
     "metadata": {},
     "output_type": "execute_result"
    }
   ],
   "source": [
    "url = 'https://www.nkeconwatch.com/nk-uploads/KJU-speech-2013.pdf'\n",
    "\n",
    "r = requests.get(url)\n",
    "f = io.BytesIO(r.content)\n",
    "\n",
    "reader = PdfFileReader(f)\n",
    "contents = reader.getPage(0).extractText().split('\\n')\n",
    "contents"
   ]
  },
  {
   "cell_type": "code",
   "execution_count": 11,
   "id": "ce8cc275-3ebd-4eb9-bea7-2853a57a83ee",
   "metadata": {},
   "outputs": [
    {
     "data": {
      "text/plain": [
       "\"New Year Address Made by Kim Jong Un Pyongyang, January 1 (KCNA) -- The dear respected K im Jong Un made a New Year address on January 1, 2013. The following is its full text: Dear comrades, Officers and men of the heroic People's Army and al l the beloved fellow countrymen, Dear compatriots, Having seen out the year 2012 characterized by the events that will go down in the history of the nati on, we are seeing in the new year 2013 full of high hop e and confidence in final victory. Reflecting the unanimous reverence of all the servi ce personnel and people for President Kim Il Sung and General Kim Jong Il, the fathers of the nation and eternal Sun of Juche, I would like first to pay  the highest tribute and New Year greetings to them. I extend my warm greetings to the service personnel  and people who are devotedly striving for the prosperity of the country, firmly united around the  Workers' Party of Korea, and sincerely wish all th e families across the country harmony and greater hap piness. My New Year greetings also go to our compatriots in  the south and abroad who are ringing in the new year with yearning and expectations for the reunifi cation and prosperity of the nation and the world's  progressive peoples and our foreign friends who lov e justice and peace. Last year was a historic year in which the great Ge neralissimos were upheld as the eternal leaders of our revolution and a firm guarantee was provided for br illiantly carrying forward the revolutionary cause of Juche to completion under the leadership of the Par ty. The President and the General were great leaders wh om our people acclaimed for the first time in their  history spanning thousands of years; they are the e ternal images of the great Paektusan nation and banners of all victories and glory. Last year we ce lebrated the centenary of the birth of the Presiden t as the greatest national holiday, reviewed the 100-yea r history of Juche Korea with pride and held up the  General as the eternal leader of our Party and peop le, realizing the cause of immortalizing the leader . By doing so, we have been able to glorify the new cent ury of the Juche era as the annals of victory and glory for the accomplishment of the revolutionary c ause of Juche under the unfurled banner of Kimilsungism-Kimjongilism. Although they saw in 2012 in tears of blood after t he sudden demise of the General whom they had believed in as in heaven, our service personnel and  people determinedly rose up following the Party with firm faith that the great General would always  be with them and fully supported the leadership of  the Party. With loyalty as pure as white gem, noble  sense of moral obligation and all sincerity, they refurbished the Kumsusan Palace of the Sun in the m ost sublime way as befits the supreme sanctuary of Juche and erected the statues of the Generalissimos  on Mansu Hill and in several other places. \""
      ]
     },
     "execution_count": 11,
     "metadata": {},
     "output_type": "execute_result"
    }
   ],
   "source": [
    "'''\n",
    "convert list to string\n",
    "'''\n",
    "\n",
    "def listToString(s):\n",
    " \n",
    "    # initialize an empty string\n",
    "    str1 = \"\"\n",
    " \n",
    "    # traverse in the string\n",
    "    for ele in s:\n",
    "        str1 += ele\n",
    " \n",
    "    # return string\n",
    "    return str1\n",
    "\n",
    "speech = listToString(contents)\n",
    "speech"
   ]
  },
  {
   "cell_type": "code",
   "execution_count": 15,
   "id": "34738293-baf2-452a-a669-197ee939ee7e",
   "metadata": {},
   "outputs": [],
   "source": [
    "'''\n",
    "string to dataframe\n",
    "'''\n",
    "data = speech\n",
    "kju_2013 = pd.DataFrame([x.split('.') for x in data.split('\\n')])\n"
   ]
  },
  {
   "cell_type": "code",
   "execution_count": 13,
   "id": "d2d30146-61c9-44eb-9a87-e90e05a48a67",
   "metadata": {},
   "outputs": [
    {
     "data": {
      "text/html": [
       "<div>\n",
       "<style scoped>\n",
       "    .dataframe tbody tr th:only-of-type {\n",
       "        vertical-align: middle;\n",
       "    }\n",
       "\n",
       "    .dataframe tbody tr th {\n",
       "        vertical-align: top;\n",
       "    }\n",
       "\n",
       "    .dataframe thead th {\n",
       "        text-align: right;\n",
       "    }\n",
       "</style>\n",
       "<table border=\"1\" class=\"dataframe\">\n",
       "  <thead>\n",
       "    <tr style=\"text-align: right;\">\n",
       "      <th></th>\n",
       "      <th>0</th>\n",
       "      <th>1</th>\n",
       "      <th>2</th>\n",
       "      <th>3</th>\n",
       "      <th>4</th>\n",
       "      <th>5</th>\n",
       "      <th>6</th>\n",
       "      <th>7</th>\n",
       "      <th>8</th>\n",
       "      <th>9</th>\n",
       "      <th>10</th>\n",
       "      <th>11</th>\n",
       "    </tr>\n",
       "  </thead>\n",
       "  <tbody>\n",
       "    <tr>\n",
       "      <th>0</th>\n",
       "      <td>New Year Address Made by Kim Jong Un Pyongyang...</td>\n",
       "      <td>The following is its full text: Dear comrades...</td>\n",
       "      <td>Reflecting the unanimous reverence of all the...</td>\n",
       "      <td>I extend my warm greetings to the service per...</td>\n",
       "      <td>My New Year greetings also go to our compatri...</td>\n",
       "      <td>Last year was a historic year in which the gr...</td>\n",
       "      <td>The President and the General were great lead...</td>\n",
       "      <td>Last year we ce lebrated the centenary of the...</td>\n",
       "      <td>By doing so, we have been able to glorify the...</td>\n",
       "      <td>Although they saw in 2012 in tears of blood a...</td>\n",
       "      <td>With loyalty as pure as white gem, noble  sen...</td>\n",
       "      <td></td>\n",
       "    </tr>\n",
       "  </tbody>\n",
       "</table>\n",
       "</div>"
      ],
      "text/plain": [
       "                                                  0   \\\n",
       "0  New Year Address Made by Kim Jong Un Pyongyang...   \n",
       "\n",
       "                                                  1   \\\n",
       "0   The following is its full text: Dear comrades...   \n",
       "\n",
       "                                                  2   \\\n",
       "0   Reflecting the unanimous reverence of all the...   \n",
       "\n",
       "                                                  3   \\\n",
       "0   I extend my warm greetings to the service per...   \n",
       "\n",
       "                                                  4   \\\n",
       "0   My New Year greetings also go to our compatri...   \n",
       "\n",
       "                                                  5   \\\n",
       "0   Last year was a historic year in which the gr...   \n",
       "\n",
       "                                                  6   \\\n",
       "0   The President and the General were great lead...   \n",
       "\n",
       "                                                  7   \\\n",
       "0   Last year we ce lebrated the centenary of the...   \n",
       "\n",
       "                                                  8   \\\n",
       "0   By doing so, we have been able to glorify the...   \n",
       "\n",
       "                                                  9   \\\n",
       "0   Although they saw in 2012 in tears of blood a...   \n",
       "\n",
       "                                                  10 11  \n",
       "0   With loyalty as pure as white gem, noble  sen...     "
      ]
     },
     "execution_count": 13,
     "metadata": {},
     "output_type": "execute_result"
    }
   ],
   "source": [
    "kju_2013"
   ]
  },
  {
   "cell_type": "code",
   "execution_count": 16,
   "id": "900c8b09-a249-4c72-a8bb-1a1f9de62152",
   "metadata": {},
   "outputs": [
    {
     "name": "stdout",
     "output_type": "stream",
     "text": [
      "                                                    0\n",
      "0   New Year Address Made by Kim Jong Un Pyongyang...\n",
      "1    The following is its full text: Dear comrades...\n",
      "2    Reflecting the unanimous reverence of all the...\n",
      "3    I extend my warm greetings to the service per...\n",
      "4    My New Year greetings also go to our compatri...\n",
      "5    Last year was a historic year in which the gr...\n",
      "6    The President and the General were great lead...\n",
      "7    Last year we ce lebrated the centenary of the...\n",
      "8    By doing so, we have been able to glorify the...\n",
      "9    Although they saw in 2012 in tears of blood a...\n",
      "10   With loyalty as pure as white gem, noble  sen...\n",
      "11                                                   \n"
     ]
    }
   ],
   "source": [
    "print(kju_2013.transpose())"
   ]
  },
  {
   "cell_type": "code",
   "execution_count": 4,
   "id": "51fd02b2-5a3f-4235-a058-5d819c630b3d",
   "metadata": {},
   "outputs": [
    {
     "data": {
      "text/plain": [
       "\"new year address made by kim jong un pyongyang, january 1 (kcna) -- the dear respected k im jong un made a new year address on january 1, 2013. the following is its full text: dear comrades, officers and men of the heroic people's army and al l the beloved fellow countrymen, dear compatriots, having seen out the year 2012 characterized by the events that will go down in the history of the nati on, we are seeing in the new year 2013 full of high hop e and confidence in final victory. reflecting the unanimous reverence of all the servi ce personnel and people for president kim il sung and general kim jong il, the fathers of the nation and eternal sun of juche, i would like first to pay  the highest tribute and new year greetings to them. i extend my warm greetings to the service personnel  and people who are devotedly striving for the prosperity of the country, firmly united around the  workers' party of korea, and sincerely wish all th e families across the country harmony and greater hap piness. my new year greetings also go to our compatriots in  the south and abroad who are ringing in the new year with yearning and expectations for the reunifi cation and prosperity of the nation and the world's  progressive peoples and our foreign friends who lov e justice and peace. last year was a historic year in which the great ge neralissimos were upheld as the eternal leaders of our revolution and a firm guarantee was provided for br illiantly carrying forward the revolutionary cause of juche to completion under the leadership of the par ty. the president and the general were great leaders wh om our people acclaimed for the first time in their  history spanning thousands of years; they are the e ternal images of the great paektusan nation and banners of all victories and glory. last year we ce lebrated the centenary of the birth of the presiden t as the greatest national holiday, reviewed the 100-yea r history of juche korea with pride and held up the  general as the eternal leader of our party and peop le, realizing the cause of immortalizing the leader . by doing so, we have been able to glorify the new cent ury of the juche era as the annals of victory and glory for the accomplishment of the revolutionary c ause of juche under the unfurled banner of kimilsungism-kimjongilism. although they saw in 2012 in tears of blood after t he sudden demise of the general whom they had believed in as in heaven, our service personnel and  people determinedly rose up following the party with firm faith that the great general would always  be with them and fully supported the leadership of  the party. with loyalty as pure as white gem, noble  sense of moral obligation and all sincerity, they refurbished the kumsusan palace of the sun in the m ost sublime way as befits the supreme sanctuary of juche and erected the statues of the generalissimos  on mansu hill and in several other places. \""
      ]
     },
     "execution_count": 4,
     "metadata": {},
     "output_type": "execute_result"
    }
   ],
   "source": [
    "kju1 = ''.join(c.lower() for c in contents if not c.isspace())\n",
    "kju1"
   ]
  },
  {
   "cell_type": "code",
   "execution_count": 5,
   "id": "c0b77f70-dfa8-40b3-87cc-d679305ff240",
   "metadata": {},
   "outputs": [
    {
     "name": "stderr",
     "output_type": "stream",
     "text": [
      "[nltk_data] Downloading package stopwords to\n",
      "[nltk_data]     C:\\Users\\gjrre\\AppData\\Roaming\\nltk_data...\n",
      "[nltk_data]   Package stopwords is already up-to-date!\n"
     ]
    },
    {
     "data": {
      "text/plain": [
       "True"
      ]
     },
     "execution_count": 5,
     "metadata": {},
     "output_type": "execute_result"
    }
   ],
   "source": [
    "import nltk\n",
    "from nltk.tokenize import RegexpTokenizer\n",
    "from nltk.corpus import stopwords\n",
    "nltk.download('stopwords')"
   ]
  }
 ],
 "metadata": {
  "kernelspec": {
   "display_name": "Python 3 (ipykernel)",
   "language": "python",
   "name": "python3"
  },
  "language_info": {
   "codemirror_mode": {
    "name": "ipython",
    "version": 3
   },
   "file_extension": ".py",
   "mimetype": "text/x-python",
   "name": "python",
   "nbconvert_exporter": "python",
   "pygments_lexer": "ipython3",
   "version": "3.10.8"
  }
 },
 "nbformat": 4,
 "nbformat_minor": 5
}
