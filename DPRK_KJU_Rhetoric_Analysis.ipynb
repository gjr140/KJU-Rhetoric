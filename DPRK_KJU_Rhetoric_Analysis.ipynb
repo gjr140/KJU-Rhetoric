{
 "cells": [
  {
   "cell_type": "code",
   "execution_count": 8,
   "id": "5cc93935-6ef0-4543-a2ad-7b85d8809d92",
   "metadata": {},
   "outputs": [],
   "source": [
    "import pandas as pd\n",
    "import re\n",
    "import numpy as np\n",
    "import PyPDF2"
   ]
  },
  {
   "cell_type": "code",
   "execution_count": 9,
   "id": "6283a04d-0cd6-4c09-8ee8-05f100dc4606",
   "metadata": {},
   "outputs": [],
   "source": [
    "mypdf = open(r'C:\\Users\\gjrre\\Documents\\Python Project\\Kim Jong Un Rhetoric\\KJU_New_Years_2013.pdf', mode='rb')"
   ]
  },
  {
   "cell_type": "code",
   "execution_count": 10,
   "id": "6fd193b4-f97a-41fe-bf87-2f16df9eaec7",
   "metadata": {},
   "outputs": [],
   "source": [
    "kju2013 = PyPDF2.PdfFileReader(mypdf)"
   ]
  },
  {
   "cell_type": "code",
   "execution_count": 11,
   "id": "0bccdf6e-26a9-492e-8f17-57b3235d7dd7",
   "metadata": {},
   "outputs": [],
   "source": [
    "total_pages = kju2013.numPages"
   ]
  },
  {
   "cell_type": "code",
   "execution_count": 12,
   "id": "1c987be4-5192-42fa-9e82-a1dc259e4d3c",
   "metadata": {
    "collapsed": true,
    "jupyter": {
     "outputs_hidden": true
    },
    "tags": []
   },
   "outputs": [
    {
     "name": "stdout",
     "output_type": "stream",
     "text": [
      " \n",
      "January 1, 2013  \n",
      "№. 01/01/13 \n",
      "New  Year Address Made by  Kim Jong Un\n",
      "Pyong yang, J anuary  1 (KCNA) -- The dear respected  Kim  Jong Un  made a N ew Year address on \n",
      "January  1, 2013. The following is its ful l text: \n",
      "Dear co mrad es, \n",
      "Officers and men of the heroic People' s Army and all the beloved f ellow countr ymen, \n",
      "Dear co mpatriots, \n",
      "Having seen out the year 2012 characterized by  the events that will go down in t he histor y of the \n",
      "nation, we are seeing in the new y ear 2013 full of high hope and confid ence in final victory . \n",
      "Reflecting the unanim ous reverence of all the servi ce personnel and people for President        \n",
      "Kim Il Sung  and General  Kim  Jong Il , the fathers of the nation an d eternal Sun of Juche, I would li ke \n",
      "first to pa y the highest tribute and New Year greeting s to them . \n",
      "I extend m y warm  greetings to the servi ce personne l and people w ho are devote dly strivin g for the \n",
      "prosperit y of the countr y, firm ly united around t he Workers'  Party  of Korea, and sincerely  wish all the \n",
      "families across the countr y harmony and greater happiness. \n",
      "My New Year greetings also go to  our c ompatriots in the south and  abroad who are ringing i n the new \n",
      "year with yearning and expectations for the reunifi cation and prosp erity of the na tion and the world' s \n",
      "progressive peoples and our foreign fri ends who love justice and peace. \n",
      "Last y ear was a historic year in which the  great Generalissim os were upheld as the  eternal leaders of \n",
      "our revolution and a firm  guarantee was provided f or brilliantl y carrying forward the revolut ionar y cause \n",
      "of Juche to com pletion under the leaders hip of the Party. \n",
      "The President and the General were gre at leader s whom  our people acclai med for  the first time  in \n",
      "their history  spanning thousands of years; they  are the  eternal i mages of the great Paektusan nation and \n",
      " 1\n"
     ]
    }
   ],
   "source": [
    "first_page = kju2013.getPage(0)\n",
    "\n",
    "print(first_page.extractText())"
   ]
  },
  {
   "cell_type": "code",
   "execution_count": 17,
   "id": "7033da59-3071-42bd-ad5f-3153c5182c00",
   "metadata": {},
   "outputs": [],
   "source": [
    "count = 0\n",
    "text  = ''\n",
    "\n",
    "'''\n",
    "Lets loop through, to read each page from the pdf file\n",
    "'''\n",
    "while(count < total_pages):\n",
    "    '''\n",
    "    Get the specified number of pages in the document\n",
    "    '''\n",
    "    full2013  = kju2013.getPage(count)\n",
    "    \n",
    "    '''\n",
    "    Process the next page\n",
    "    '''\n",
    "    count += 1\n",
    "    \n",
    "    '''\n",
    "    Extract the text from the page\n",
    "    '''\n",
    "    text += full2013.extractText()"
   ]
  },
  {
   "cell_type": "code",
   "execution_count": 14,
   "id": "04954155-e172-47ed-814e-da757baca4ac",
   "metadata": {
    "collapsed": true,
    "jupyter": {
     "outputs_hidden": true
    },
    "tags": []
   },
   "outputs": [
    {
     "data": {
      "text/plain": [
       "' \\nJanuary 1, 2013  \\n№. 01/01/13 \\nNew  Year Address Made by  Kim Jong Un\\nPyong yang, J anuary  1 (KCNA) -- The dear respected  Kim  Jong Un  made a N ew Year address on \\nJanuary  1, 2013. The following is its ful l text: \\nDear co mrad es, \\nOfficers and men of the heroic People\\' s Army and all the beloved f ellow countr ymen, \\nDear co mpatriots, \\nHaving seen out the year 2012 characterized by  the events that will go down in t he histor y of the \\nnation, we are seeing in the new y ear 2013 full of high hope and confid ence in final victory . \\nReflecting the unanim ous reverence of all the servi ce personnel and people for President        \\nKim Il Sung  and General  Kim  Jong Il , the fathers of the nation an d eternal Sun of Juche, I would li ke \\nfirst to pa y the highest tribute and New Year greeting s to them . \\nI extend m y warm  greetings to the servi ce personne l and people w ho are devote dly strivin g for the \\nprosperit y of the countr y, firm ly united around t he Workers\\'  Party  of Korea, and sincerely  wish all the \\nfamilies across the countr y harmony and greater happiness. \\nMy New Year greetings also go to  our c ompatriots in the south and  abroad who are ringing i n the new \\nyear with yearning and expectations for the reunifi cation and prosp erity of the na tion and the world\\' s \\nprogressive peoples and our foreign fri ends who love justice and peace. \\nLast y ear was a historic year in which the  great Generalissim os were upheld as the  eternal leaders of \\nour revolution and a firm  guarantee was provided f or brilliantl y carrying forward the revolut ionar y cause \\nof Juche to com pletion under the leaders hip of the Party. \\nThe President and the General were gre at leader s whom  our people acclai med for  the first time  in \\ntheir history  spanning thousands of years; they  are the  eternal i mages of the great Paektusan nation and \\n 1banners of all victories and glor y. Last year we celebrated the cente nary of the birth of the Pre sident as \\nthe greatest national holida y, reviewed the 100- year h istory of Juch e Korea with pride and hel d up the \\nGeneral as the eternal lead er of our Part y and peo ple, realizing the cause of i mmortalizing the leader. By  \\ndoing  so, we have been able to glorif y the new century  of the Juche  era as the an nals of victor y and gl ory \\nfor the acco mplishment of t he revolutionary  cause of Juche under the unfurled ba nner of \\nKimilsungism-Ki mjongilism . \\nAlthough  they saw in 201 2 in tears of b lood after the sudden dem ise of the General whom  they had \\nbelieved in as in heaven, o ur service personnel and pe ople determ inedly rose up f ollowing t he Party  with \\nfirm faith that the great General would alway s be w ith them  and fully supported the leadership of the \\nParty . With loyalty as pur e as white gem , noble sense of m oral ob ligation and  all sincerity , they \\nrefurbished the Ku msusan Palace of the Sun in the mo st sublim e way as befits the supre me sanctuary  of \\nJuche and erected the statues of the Generali ssimos on Mansu Hill and in several other places. \\nPlacing deep trust in and fa ithfull y supporting t he Party, the y established the ties of blood with it, \\ntheir hearts pulsating in the sa me beats with it, a nd alway s shared sweets and bitters with it. Major \\npolitical celebrations held amid the deep interest of t he whole nation and t he day s of last year bore \\ntestimony to the single-hearted unity  between the Pa rty, the arm y and the peo ple which was further \\nconsolidated t o be un breakable ties of blood. \\nLast y ear our service perso nnel and people achieved historic victor ies which would brilliant ly shine in \\nthe histor y of the countr y by waging a ge neral offens ive to put t he intentions and i nstructions of  the \\nGeneral into practice. \\nOur reliable scientists and technicians su ccessf ully launched the artificial earth satellite \\nKwang myongsong 3-2, carry ing out the instruction of the General with credit and full y demonstrating \\nthe high level of space science and technology and ove rall national power of Juche Korea. That we \\nsuccessfully  manufactured  and launched the scientific and technological satellite by entirel y relying on \\nour own effor ts, technolog y and wisdo m was an event of natio nal jubilation that raised the dignit y and \\nhonor of the Sun\\'s nation onto t he hig hest level and a great event which inspired all the service personnel \\nand people w ith confidenc e in sure victor y and co urage and clearly showed that Korea does what it is \\ndeterm ined to do. \\nThroug h the parade held in celebration of the centena ry of the birt h of the Presi dent, our  revo lutionar y \\narmed forces demonstrated  the inexhaust ible m ight of the powerful revolutionar y army of Mt.  Paektu \\nsteadfast in ideology  and faith and equi pped with Korean-sty le modern m ilitary  hardware cap able of \\ndefeating any form idable enem y. And they reliabl y safeguarded the security  of the countr y by resolutely  \\nsmashing every  war provocation and anti-DPRK s mear campaign of the enem y. The officers and m en of \\n 2the People\\'s Army and the  People\\'s Inte rnal Security  Forces made breakthroughs on all m ajor fronts of \\nbuildi ng a thr iving countr y with the m ettle of \"At a go\" and di d many good t hings for the happiness of \\nthe people, thereby  living up to the expect ations and tr ust of the Part y and peo ple. \\nAlthough the situation was acute and com plicated and severe natural calamities hit the countr y in \\nsucces sion last y ear, our arm y and people made great strides in their efforts to build a thriving socialist \\ncountr y and i mprove the people\\' s living standard s by display ing an indom itable will and waging an \\nunyielding str uggle. \\nWe put the Huichon P ower Station and Tanchon Port  into comm ission, bui lt many Juche-oriented and \\nmodern factories and enterprises and reconstructe d major producti on bases in key  industrial sectors on \\nthe basis of advanced science and technolog y, thus further consolid ating the m aterial and technological \\nfoundatio ns of our econom y. \\nThanks to the  exalted patriotic zeal of the service per sonnel and people, m onumental edifices \\nincludin g Changjon Street and Rung na People\\' s Pleasure Park sprang up i n Pyongyang an d many  \\ncultural facilities for the prom otion of the wellbeing of  the people were built in different parts of the \\ncountr y, chan ging its l ooks . \\nLast y ear, the superior socialist education sy stem  was further conso lidated throu gh the adopti on of the \\nlaw on enforcing universal 12-y ear com pulsory  education; our sports people achieved laudable succes ses \\nin internation al gam es, adding gl ory to the count ry; and our revolu tionar y artistes conducted artistic \\nactivities in a fresh and enterprising m anner, im buing society  with a n anim ating s pirit and grea tly \\nencouraging t he people in t heir struggle.  \\nThe brilliant successes we achieved in the revolutionary  struggle and construction work last year were \\nascribable to the fact that the General had unfolded an am bitious bl ueprint and la id firm  foundations for \\nthe buildi ng of a thriving countr y. Last year\\'s significant successes were a valuab le fruit born of the \\nunshakeable determ ination and correct leadership of our Party  to glorify  Kim Il Sung \\'s \\nand        Kim  Jong Il \\'s Korea all over the world by translati ng the far-reaching plan and ins tructions \\nof the General into realit y and the loft y sense of loyalty and patrioti c devotion of our service personnel \\nand people u nfailingl y faithful to t he Party. \\nI extend m y warm  thanks to all the service personnel and people w ho adorned  the first y ear of  the new \\ncentury  of the  Juche era wit h great victor ies in  hearty  response to the Party \\'s militant call. \\nComrades, \\nThe new y ear 2013 is a year of great creations and cha nges in which a radical turnabout will be \\neffected in th e buildin g of a thriving soc ialist c ountr y on the road of the onward march in the new \\ncentury  of Kim Il Sung \\'s and  Kim  Jong Il \\'s Korea. \\n 3All the peopl e and service personnel sho uld dynam ically turn out in the grand o nward march for \\nbuildi ng a thr iving co untry full of pride of victors and  confidence in a ros y futur e. \\nThe road of J uche is the only path for our Party  and people to i nvariably follow a nd great \\nKimilsungism-Ki mjongilism  is the ever-victorious b anner of our  revolutio n. W e should m arch forward \\nalong the roa d of in depend ence, the road of Son gun and the road of socialism  to the end up holding t he \\nbanner of Kimilsungism-Kimjongilism . Our Party  will trium phantl y build a t hriving socialist nation, \\nthe m ost powerful countr y, on this lan d in our own way, the way th e General did, b y relying on our \\npeople who a re the best in the world. \\nThis year we will be greeting the 65th a nniver sary of the founding of the Dem ocratic People\\'s \\nRepublic of Korea, our gl orious m otherland, and t he 60th an niversary  of the vict ory in the great \\nFatherland Liberation War. \\nThe dignified and glorious present of  our people and the bright prosperous future of our country are \\nensured b y the imm ortal nation-bui lding exploits  the Generalissimos performed while foundi ng a \\ngenuine state of the people for the first ti me in th e 5 0 00-year-long histor y of our nation and  developing \\nit into a powerful socialist countr y that is independe nt, self-sufficient and self-reliant in national defence \\nand by  the great achieve ments the Presi dent m ade while leading t he Fatherland Liberation War to \\nbrilliant victory  on the strength of his outstanding strategy and tactics and wise leadership. \\nIn this signifi cant y ear we should add br illian ce to the immortal ach ievem ents of the great \\nGeneralissimos and m ake persevering efforts to buil d a thriving  socialist country and carry o ut the cause \\nof reunif ying the countr y. \\nThe buildi ng of an economic giant is the m ost important task that comes to  the fore in the present \\nstage of build ing a thriv ing socialist countr y. \\nWe should further consolidate the successes achieved  so far in econom ic construction to raise the \\nstatus of our countr y to that of an econo mic giant in t he new century , thus realizing the wish of the great \\nGeneral who devoted all hi s life to making o ur peopl e well off with nothi ng to envy in the worl d. \\nIn the sam e manner as we dem onstrated the di gnity and m ight of Songu n Korea throug h the \\nmanufacture and launch of  the Juche-based applicati on satellite, the entire Party , the whole countr y and \\nall the people should wage an all-out stru ggle this year to effect a turnaround i n building an econom ic \\ngiant and im proving  the pe ople’s standar d of livi ng. \\n\"Let us bring about a radical turn in t he buildi ng of an econom ic giant with the same spirit and m ettle \\nas wer e display ed in conquering space!\" -- this is the  fighting slogan our Part y and people should uphol d \\nthis y ear. \\n 4All sectors an d all units of  the national econom y shou ld launch a vi gorous gene ral offensive to boost \\nproduction in hearty  response to the Party \\'s militant slogan. \\nAll econom ic undertakin gs for this year should be geared to effecting a radical increase in production  \\nand stabilizing and im proving the peopl e\\'s living sta ndards by  solidifying and making effect ive use of \\nthe already -built foundations of the independent national econom y. \\nBy adoptin g decisive steps to shore up  the vanguard s ectors of the national econ omy and the s ectors \\nof basic indus tries, we should develop co al-mining,  electric-power and m etallurgical industries and rail \\ntransport on a  preferential basis and pro vide a firm  springboard f or the buildi ng of an econom ic giant. \\nWe should make innovatio ns in coal-m ining an d metallurg ical ind ustries in particular so as to revitalize \\nthe overall econom y of the countr y. \\nThe success in econom ic construction s hould be m anifested in the people\\' s standard of livi ng. We \\nshould direct great efforts to bolstering up the sectors and units t hat have a direct bearing on the people\\' s \\nlivelihoods and increasing producti on there, so as to give them  more benefits in living. \\nAgriculture and lig ht industry remain the major fr onts for econom ic construction this year, to o. We \\nshould f ulfil this year\\'s plan for grain production  without fail b y concentrating n ationwide efforts on \\nfarm ing and raising the efficiency  of agri cultural pr oduction b y dint of scientific and intensive methods. \\nWe should ta ke concrete measures fo r the suppl y of raw and other materials to light-ind ustry factories \\nand thus incr ease the output of qualit y consum er goods. \\nWe should de cisively  bolster up livestock, fish and fruit farm ing to provi de the p eople with a better, \\nmore bountif ul diet. The s oldiers of the People’s Army and the sh ock-brigade mem bers who volunteered \\nto work at the  reclamation site of Sepho tablel and in r esponse to th e Party \\'s call should achiev e \\nmiraculous succes ses and perfor m heroic  feats in th is year\\'s ca mpai gn to open a bright prospe ct for \\ncarry ing the Party \\'s grand nature-rem aking plan to com pletion at an earlier date.  \\nWe should w age a dynam ic struggle to boost pr oduct ion at the m odern factories and producti on bases \\nthat were built under the le adership of the General who, goi ng on w ith his super-i ntense forced march, \\nmade painstaking efforts t o improve the people\\' s living standards. By  doing so, we should en sure that his \\nennobling affection reaches the people as it is. \\nAll sectors an d all units of  the national econom y shoul d push ahead with a sociali st emulation drive to \\nreenergize production  and fulfil their qu otas as fixed in the national  econom ic plan for this year. \\nWe should br ing abo ut a radical turn in t he buildi ng of an econom ic giant on t he strength of s cience \\nand technolo gy by fannin g the flam es of the industrial  revolutio n in the new centur y. \\n 5The industrial  revolution in the new centur y is, in  essence, a scientif ic and technological revolution, \\nand breaking throug h the c utting ed ge is a shortcut to the buildi ng of an econom ic giant. Like t he \\nsatellite scien tists who conquered outer space we s hould wage a dynam ic cam paign to push back the \\nfrontiers of science and technolo gy so as  to develo p the countr y\\'s overall science and technolo gy to the \\nworld standards as soon as possible. All sectors of the national econom y should direct pri mary efforts to \\nthe development of science and technolo gy, bring sci ence and technolog y into  close co mbination with \\nproduction in order to boos t prod uction by relying on domestic r esources and technology , and introduce \\nCNC technolog y in equip ment and pro duction li nes a nd achieve their full auto mation in the long r un. \\nWe should i mprove econom ic guida nce and management as demanded b y the d eveloping realit y. \\nAll sectors of  the national econom y should m ake scrupulous arrangem ents for econom ic plan ning and \\nguidance to boost production by tapping every  possi ble reserve and potentiality , and work out in a \\nscientific way  the immediat e plans and long-term  strategies for stage-by -stage development and push \\nahead with them  in a persistent manner. We should h old fast to the socialist econ omic system  of our own \\nstyle, steadil y improve and perfect the methods of eco nomic manag ement on the principle of \\nencouraging t he working m asses to fulfil their respons ibilit y and rol e befitting the  master s of production, \\nand generalize on an extensive scal e the good  experiences gained at several units. \\nWe should continue to channel great efforts into  cons olidating our political and military  might in \\nevery  way. \\nThe single-hearted unit y of the arm y and people aroun d the Part y is our strongest weapon and a \\npowerful pro pellant for th e buildin g of a thriving soc ialist countr y. \\nWe should invariably carry forward the proud tradition of single-he arted unit y, the tradition of \\nadorning  the red flag of th e revolution only with v ictories on the strength of t he harmonious whole \\nwherein the Party  believes in the people and the latter absolutely trust and follow the former. \\nAll officials, Party  members and other working people should bec ome genuine co mrades united with \\na single heart, who share ideolog y and purpose, weal  and woe with our Part y on the road of th e Songu n \\nrevolution , and make devoted efforts for the sake of  their countr y and people. T hey shoul d orie nt all \\nundertakings towards defending and cementing the si ngle-hearted unit y, and str engthen the political and \\nideological p osition of our revolutio n as solid as a ro ck by  grasping the people\\'s senti ments an d rally ing \\nbroad sections of the peopl e firm ly behi nd the Part y. \\nThe m ilitary might of a country  represents its nati onal strength; only when it builds up its m ilitary  \\nmight in every way  can it develop into a thriving country  and defend the security and happiness of its \\npeople. We should put continued stress on increasi ng our m ilitary  might under t he great banner of \\n 6Songun, reliabl y safeguard the security  and soverei gnty of the count ry and render services to assuring \\nregional stability  and globa l peace. \\nThis year marks the 50th  anniversary  of the adva ncing of the slogan \"a-m atch-for-a-hundred\" b y the \\ngreat General issimo Kim Il Sung . It is im portant to bring abo ut a fundam ental change in strengthenin g \\nour revolutionary  armed forces and perfecting their com bat prepar edness. \\nThe People’s Army shoul d set up a revolutionar y command sy stem  and m ilitary  climate, establish \\nsteel-strong military  disci pline and perf ect its regularized features as befits an elite revolutionary  force. It \\nshould m ake its training more intensive, as the an ti-Japanese guerrillas did on Mt. Paektu, so a s to \\nprepare all its officers and men to be a-match-fo r-a-h undred com batants who have acquired capabilities \\nfor actual war fare, and maintain full com bat readines s. If the aggressors dare lau nch a pree mptive attack \\nagainst our sacred countr y, the People\\' s Army shoul d mercilessly  annihilate the m and win vi ctory  in the \\nwar for the countr y\\'s reunification. \\nOfficer s and men of the Korean People\\'s Internal Security Forces and m embers of the Worke r-Peas ant \\nRed Guards should intensif y com bat and  political tr aining and m aintain full com bat readiness with a \\ndeterm ination to safeguard their Party  and leader , countr y and peop le, and defend their hom etowns. \\nThe sector of defence industry shoul d develop in larger num bers so phisticated military  hardware of \\nour own st yle that can cont ribute to im plem enting th e Party \\'s military  strategy , thereby  fulfil ling its \\nmission as the arsenal of t he powerful revolutionary army of Mt. Paektu. \\nWe should spur the buil ding of a civilized soci alist nation to usher i n a new era of cultural \\neffloresc ence in the 21st ce ntury . \\nThe thrivin g socialist country we are building is a civi lized socialist one where all its people are \\npossessed of profound cult ural knowledge, sturdy  physique and noble m oral virt ues, enjoy ing a socialist \\nlife to their heart\\' s content under the m ost culture d conditions and environm ent, and a beautiful and \\nsound lifest yle pervades the whole society. \\nAll sectors in cultural construction should im plement to the letter the ideas, lines and policies set forth \\nby the General, and develop educa tion, public health,  literature and the arts, phy sical culture, public \\nmorals and all other branch es as appropria te to an advanced civilized nation. \\nWe should de velop P yong yang into a m ore majestic an d picturesque city  as befits the capital of Juche \\nKorea, the centre of Songun culture , and turn all streets and villages, mountains and rivers in provinces, \\ncities and counties into a so cialist paradise. At th e same tim e we should set up m odern cultural and \\nwelfar e facilit ies, parks and pleasure grounds in larg er num bers, thus making our people enjoy  a cultured \\nlife of a new era to their heart\\'s content. \\n 7In order to eff ect a radical change in this year\\'s campaign to build a thriving  socialist countr y, officials \\nshould m ake a fundamental turnabout in their ideological viewpoint, work st yle and attitude.  \\nThose who acquire the President\\'s and the General \\'s outlook on the people, m ake tireless e fforts for \\ntheir good, ri d them selves of the old way of thi nking and attitude and m ake ceaseless innovations in all \\nwork, and ro use the masses to m ake breakthrou ghs for  the advance, can be rightl y claim ed to be genuine \\nofficials required by  our Party at present. Officials sho uld strive wit h devoti on, upholdi ng the slogan \\n\"Everythin g for the people and every thing by relying on them !\" They shoul d wor k to the best of their \\nabilities with a high sense of responsibil ity, eagerness and an enterprising appr oach to work, so that their \\nloyalty and perform ance can be j udged by the Part y and the peo ple. \\nParty  organizations should further enha nce their militant function and role. \\nAs the political staff of the units concerned, the y shoul d firm ly establish polic y-oriented principles in \\nimplem enting the Party \\'s policies and conduct political  and organiz ational work with scrupulous care. \\nBy doing so, they should ensure th at a great upsurge is brought about in their respective sectors and units. \\nParty  organizations, out of maternal feeling, should embrace all the people, take war m care of them  and \\nlead the m forward to ensure that they share the sa me destiny with th e Party  to the end and fulf il their \\ntasks at their posts in a responsible m anner. \\nWe should conduct Part y work in t he same way  as it was done on t he battleline in the 1970s, a nd put \\na focus of the work on t horoughl y appl ying Kim  Jong Il \\'s patriotism  in all activities. \\nKim  Jong Il \\'s patriotism  is the eternal soul and breath of  Kim Il S ung\\'s nation, and a drivin g force \\nfor the buil ding of a t hriving coun try. Party organizati ons shoul d ensure that all officials, Party m embers \\nand other wor king people cherish  Kim J ong Il \\'s patri otism deep in their hearts and gi ve full play  to their \\npatriotic enth usiasm  and spirit of dev oted service in the ongo ing sa cred struggle to achieve prosperity of \\ntheir socialist countr y. \\nWorking  people\\'s organizations shoul d conduct effective education among their mem bers to suit their \\nspecific fe atures, thus inspiring them  to an all-out offensive for this year. Yout h league organizations \\nshould ed ucate y oung peop le to d ynamically  advance straight forward along t he road indicated  by the \\nParty  and become y outh he roes who glorify the present era of great upsurge with their creative activities \\nand feats. \\nThe reunification of t he country is the greatest national task that bro oks no f urther delay  and was the \\nlifelong desir e and instructions of the great Generalissim os. \\nDeeply  grievi ng over the n ational divisi on, President  Kim Il Sung  and General  Kim  Jong Il , the \\nfathers of the nation and l odestars of national reunific ation, worked  heart and sou l throu ghout their life \\n 8to hand down  a reunified countr y to their fello w coun trymen, lay ing firm  foundations for the \\nindependent reunification, peace and prosperity  of the nation. \\nWe should st aunchl y safeguard a nd add brilliance to t he undying e xploits the great Generalissim os \\nperformed for the sacred ca use of national reunifi cation, and accomplish the historic cause of the \\ncountr y\\'s reunification, a l ong-cherished desire of our nation, tr ue to the loft y intention of the peerlessly  \\ngreat persons. \\nThis year the entire Korean  nation shoul d turn out in a nationwide patriotic struggle for reunifi cation \\nin unity so as to usher in a new phase in the reunification m ovement. \\nAn im portant issue in putti ng an end to the division  of the countr y and achieving its reunification is to \\nremove confrontation between the north and the south . \\nThe past records of inter-Korean relations show that confrontatio n between fello w countr ymen leads \\nto not hing but war. Anti-reunification forces of s outh Korea should abandon t heir hostile polic y against \\ntheir fellow countr ymen, but take the road of national  reconciliation, unit y and r eunification.  \\nRespecting and th oroughly implementing the n orth-south joint declarations is a basic prerequisite to \\nprom oting th e inter-Korean relations and hastening t he countr y’s reunification.  \\nAll the co mpatriots in the north, south a nd abroad sh ould launch a dy namic stru ggle to carry  out to the \\nletter the June 15 Joint De claration and the Oct ober 4 Declaration, great reunification pro grammes \\ncommon to the nation in the new centur y and m ilesto nes for peace and prosperity. \\nThe reunification issue should be solved  by the concer ted efforts of our natio n in an independe nt \\nmanner. \\nThe drivin g force of the reunification movement is the entire Korean nation, an d not hing is \\nimpossible if it achieves fir m unity . All the me mbers of the Korean nation i n the north, so uth a nd abroad \\nshould su bordinate and ori entate every thing t o the great national cause of reunify ing the coun try from  \\nthe standpoin t of givi ng priority and atta ching im portance to the nat ion and achie ving its unity. The \\nentire nation should vehemently reject any  moves fo r dom ination, intervention, a ggression and war by  \\noutside forces, and never tolerate any  acts hindering t he countr y\\'s reunification. \\nWhatever trials and difficul ties lie in the way  of national reunification, we will bui ld a reunified \\nthriving  coun try without  fail on t his three-thousand-ri  land b y the concerted efforts of the who le nation. \\nIn the present international arena, the moves of the im perialists to interfere in the internal affa irs of \\nother sovereign states and their acts of military  aggr ession pose a serious threat  to peace and security  of \\nmankind. The  Asia-Pacific region, the K orean Peninsula in particular, has beco me the hottest spot in the \\nworld in whic h constant ten sion persists. \\n 9The aspiration and desire o f mankind to lead an indep endent life free fro m all so rts of dom ination and \\nsubjugatio n is growing str onger, and no force can st em the trend o f histor y towa rds independe nce and \\njustice. \\nThe present international situation dem ands that our  Republic cont inue to advance along the road of \\nindependence under the u nfurled banner of Son gun. \\nBy holdi ng fa st to the ideals of independence, peace a nd friendshi p, we will, in the future, too, strive \\nto develop rel ations of friendship and cooperation wit h the countrie s that are friendl y to our country out \\nof their respect for its sovereignty , and safeguard  regional peace and stability  and m ake the whole world \\nindependent.  \\nA brighter an d broader vist a is open for us in the new year, and only victor y and glory are in st ore for \\nour peop le on  their onward march. \\nLet us vigorously strive to achieve the prosperity of our countr y, our m otherlan d, firm ly rallied behind \\nthe Party  under the banner of Kimilsung ism-Kimjon gilism . -0- \\n \\n 10'"
      ]
     },
     "execution_count": 14,
     "metadata": {},
     "output_type": "execute_result"
    }
   ],
   "source": [
    "text"
   ]
  },
  {
   "cell_type": "code",
   "execution_count": 15,
   "id": "6c750fd0-71ba-433c-829d-1ee0b4457018",
   "metadata": {},
   "outputs": [],
   "source": [
    "with open('KJUspeech.txt', 'w') as f:\n",
    "    f.write('KJU Speech')"
   ]
  },
  {
   "cell_type": "code",
   "execution_count": 16,
   "id": "11ae8989-2b3a-4104-9628-3a9ac8a550cd",
   "metadata": {},
   "outputs": [
    {
     "data": {
      "text/html": [
       "<div>\n",
       "<style scoped>\n",
       "    .dataframe tbody tr th:only-of-type {\n",
       "        vertical-align: middle;\n",
       "    }\n",
       "\n",
       "    .dataframe tbody tr th {\n",
       "        vertical-align: top;\n",
       "    }\n",
       "\n",
       "    .dataframe thead th {\n",
       "        text-align: right;\n",
       "    }\n",
       "</style>\n",
       "<table border=\"1\" class=\"dataframe\">\n",
       "  <thead>\n",
       "    <tr style=\"text-align: right;\">\n",
       "      <th></th>\n",
       "      <th>0</th>\n",
       "    </tr>\n",
       "  </thead>\n",
       "  <tbody>\n",
       "    <tr>\n",
       "      <th>0</th>\n",
       "      <td>KJU Speech\\n</td>\n",
       "    </tr>\n",
       "  </tbody>\n",
       "</table>\n",
       "</div>"
      ],
      "text/plain": [
       "              0\n",
       "0  KJU Speech\\n"
      ]
     },
     "execution_count": 16,
     "metadata": {},
     "output_type": "execute_result"
    }
   ],
   "source": [
    "    tokens = re.sub('[^a-zA-Z 0-9]', '', text)\n",
    "    tokens = re.sub('[%s]' % re.escape(string.punctuation), '', text) # Remove punctuation\n",
    "    tokens = re.sub('\\w*\\d\\w*', '', text)"
   ]
  },
  {
   "cell_type": "code",
   "execution_count": 6,
   "id": "2f6c0e1d-d2a9-4314-be89-7f769bfb968e",
   "metadata": {},
   "outputs": [
    {
     "data": {
      "text/plain": [
       "<_io.TextIOWrapper name='KJUspeech.txt' mode='r' encoding='utf8'>"
      ]
     },
     "execution_count": 6,
     "metadata": {},
     "output_type": "execute_result"
    }
   ],
   "source": [
    "f"
   ]
  },
  {
   "cell_type": "code",
   "execution_count": null,
   "id": "dfd9763b-5a02-4810-aa5b-e56b5b7ea90b",
   "metadata": {},
   "outputs": [],
   "source": []
  },
  {
   "cell_type": "code",
   "execution_count": 7,
   "id": "adba6b71-2b52-4db6-ac24-c8c9f9f82af6",
   "metadata": {},
   "outputs": [
    {
     "name": "stderr",
     "output_type": "stream",
     "text": [
      "C:\\Users\\gjrre\\anaconda3\\envs\\MLenvironment\\lib\\site-packages\\tqdm\\auto.py:22: TqdmWarning: IProgress not found. Please update jupyter and ipywidgets. See https://ipywidgets.readthedocs.io/en/stable/user_install.html\n",
      "  from .autonotebook import tqdm as notebook_tqdm\n",
      "No model was supplied, defaulted to distilbert-base-uncased-finetuned-sst-2-english (https://huggingface.co/distilbert-base-uncased-finetuned-sst-2-english)\n"
     ]
    },
    {
     "data": {
      "text/plain": [
       "[{'label': 'POSITIVE', 'score': 0.9998656511306763},\n",
       " {'label': 'NEGATIVE', 'score': 0.9991129040718079}]"
      ]
     },
     "execution_count": 7,
     "metadata": {},
     "output_type": "execute_result"
    }
   ],
   "source": [
    "from transformers import pipeline\n",
    "sentiment_pipeline = pipeline(\"sentiment-analysis\")\n",
    "data = [\"I love you\", \"I hate you\"]\n",
    "sentiment_pipeline(data)"
   ]
  },
  {
   "cell_type": "code",
   "execution_count": 8,
   "id": "c349f7f6-b25e-43e0-b6f1-df2f3af3a287",
   "metadata": {},
   "outputs": [],
   "source": [
    "import spacy\n",
    "import en_core_web_sm\n",
    "\n",
    "nlp = spacy.load(\"en_core_web_sm\")\n",
    "doc = nlp(text)"
   ]
  },
  {
   "cell_type": "code",
   "execution_count": 18,
   "id": "77752543-82c4-42f8-819d-02bbb06d360c",
   "metadata": {},
   "outputs": [
    {
     "ename": "ModuleNotFoundError",
     "evalue": "No module named 'nlkt'",
     "output_type": "error",
     "traceback": [
      "\u001b[1;31m---------------------------------------------------------------------------\u001b[0m",
      "\u001b[1;31mModuleNotFoundError\u001b[0m                       Traceback (most recent call last)",
      "Input \u001b[1;32mIn [18]\u001b[0m, in \u001b[0;36m<cell line: 1>\u001b[1;34m()\u001b[0m\n\u001b[1;32m----> 1\u001b[0m \u001b[38;5;28;01mimport\u001b[39;00m \u001b[38;5;21;01mnlkt\u001b[39;00m\n\u001b[0;32m      2\u001b[0m \u001b[38;5;28;01mfrom\u001b[39;00m \u001b[38;5;21;01mnltk\u001b[39;00m\u001b[38;5;21;01m.\u001b[39;00m\u001b[38;5;21;01mtokenize\u001b[39;00m \u001b[38;5;28;01mimport\u001b[39;00m word_tokenize\n\u001b[0;32m      3\u001b[0m \u001b[38;5;28;01mfrom\u001b[39;00m \u001b[38;5;21;01mnltk\u001b[39;00m\u001b[38;5;21;01m.\u001b[39;00m\u001b[38;5;21;01mcorpus\u001b[39;00m \u001b[38;5;28;01mimport\u001b[39;00m stopwords\n",
      "\u001b[1;31mModuleNotFoundError\u001b[0m: No module named 'nlkt'"
     ]
    }
   ],
   "source": [
    "import nlkt\n",
    "from nltk.tokenize import word_tokenize\n",
    "from nltk.corpus import stopwords\n",
    "import spacy\n",
    "\n",
    "tokens = word_tokenize(text)\n",
    "punctuations = ['(,)',';',':','[',']',',']\n",
    "stop_words = stopwords.words('english')"
   ]
  },
  {
   "cell_type": "code",
   "execution_count": null,
   "id": "61ed4169-7e8d-4715-9988-48cf588f882d",
   "metadata": {},
   "outputs": [],
   "source": []
  }
 ],
 "metadata": {
  "kernelspec": {
   "display_name": "Python 3 (ipykernel)",
   "language": "python",
   "name": "python3"
  },
  "language_info": {
   "codemirror_mode": {
    "name": "ipython",
    "version": 3
   },
   "file_extension": ".py",
   "mimetype": "text/x-python",
   "name": "python",
   "nbconvert_exporter": "python",
   "pygments_lexer": "ipython3",
   "version": "3.10.8"
  }
 },
 "nbformat": 4,
 "nbformat_minor": 5
}
